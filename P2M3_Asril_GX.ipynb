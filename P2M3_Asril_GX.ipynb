{
 "cells": [
  {
   "cell_type": "markdown",
   "metadata": {},
   "source": [
    "# 1. Introduction"
   ]
  },
  {
   "cell_type": "markdown",
   "metadata": {},
   "source": [
    "Nama : Muhammad Asril Hanif\n",
    "\n",
    "Batch : RMT-034\n",
    "\n",
    "Notebook ini dibuat untuk melakukan validasi pada data yang telah melalui proses DAG Apache Airflow"
   ]
  },
  {
   "cell_type": "markdown",
   "metadata": {},
   "source": [
    "# Libraries"
   ]
  },
  {
   "cell_type": "code",
   "execution_count": 1,
   "metadata": {},
   "outputs": [],
   "source": [
    "# Libraries great expectations\n",
    "from great_expectations.data_context import FileDataContext"
   ]
  },
  {
   "cell_type": "markdown",
   "metadata": {},
   "source": [
    "# 3. Data Loading"
   ]
  },
  {
   "cell_type": "code",
   "execution_count": 2,
   "metadata": {},
   "outputs": [],
   "source": [
    "# Define context\n",
    "context = FileDataContext.create(project_root_dir='./')"
   ]
  },
  {
   "cell_type": "markdown",
   "metadata": {},
   "source": [
    "Mendefinisikan context untuk proses validasi"
   ]
  },
  {
   "cell_type": "code",
   "execution_count": 6,
   "metadata": {},
   "outputs": [],
   "source": [
    "# Define Datasource name\n",
    "datasource_name = 'table-m3'\n",
    "datasource = context.sources.add_pandas(datasource_name)\n",
    "\n",
    "# Memberi nama pada aset data\n",
    "asset_name = 'data'\n",
    "path_to_data = 'p2m3_asril_data_clean.csv'\n",
    "asset = datasource.add_csv_asset(asset_name, filepath_or_buffer=path_to_data)\n",
    "\n",
    "# Membuat batch request\n",
    "batch_request = asset.build_batch_request()"
   ]
  },
  {
   "cell_type": "markdown",
   "metadata": {},
   "source": [
    "Mendefinisikan nama datasource, path data, dan membuat batch request untuk prasyarat melakukan proses validasi"
   ]
  },
  {
   "cell_type": "markdown",
   "metadata": {},
   "source": [
    "# 4. Great Expectation"
   ]
  },
  {
   "cell_type": "code",
   "execution_count": 7,
   "metadata": {},
   "outputs": [
    {
     "data": {
      "application/vnd.jupyter.widget-view+json": {
       "model_id": "6b673d3380394c19b5c401592cf60263",
       "version_major": 2,
       "version_minor": 0
      },
      "text/plain": [
       "Calculating Metrics:   0%|          | 0/1 [00:00<?, ?it/s]"
      ]
     },
     "metadata": {},
     "output_type": "display_data"
    },
    {
     "data": {
      "text/html": [
       "<div>\n",
       "<style scoped>\n",
       "    .dataframe tbody tr th:only-of-type {\n",
       "        vertical-align: middle;\n",
       "    }\n",
       "\n",
       "    .dataframe tbody tr th {\n",
       "        vertical-align: top;\n",
       "    }\n",
       "\n",
       "    .dataframe thead th {\n",
       "        text-align: right;\n",
       "    }\n",
       "</style>\n",
       "<table border=\"1\" class=\"dataframe\">\n",
       "  <thead>\n",
       "    <tr style=\"text-align: right;\">\n",
       "      <th></th>\n",
       "      <th>brand_id</th>\n",
       "      <th>brand_name</th>\n",
       "      <th>country</th>\n",
       "      <th>year</th>\n",
       "      <th>sustainability_rating</th>\n",
       "      <th>material_type</th>\n",
       "      <th>eco_friendly_manufacturing</th>\n",
       "      <th>carbon_footprint_mt</th>\n",
       "      <th>water_usage_liters</th>\n",
       "      <th>waste_production_kg</th>\n",
       "      <th>recycling_programs</th>\n",
       "      <th>product_lines</th>\n",
       "      <th>average_price_usd</th>\n",
       "      <th>market_trend</th>\n",
       "      <th>certifications</th>\n",
       "    </tr>\n",
       "  </thead>\n",
       "  <tbody>\n",
       "    <tr>\n",
       "      <th>0</th>\n",
       "      <td>BRAND-0001</td>\n",
       "      <td>Brand_1</td>\n",
       "      <td>Australia</td>\n",
       "      <td>2018</td>\n",
       "      <td>D</td>\n",
       "      <td>Tencel</td>\n",
       "      <td>False</td>\n",
       "      <td>1.75</td>\n",
       "      <td>4511152.79</td>\n",
       "      <td>97844.11</td>\n",
       "      <td>False</td>\n",
       "      <td>2</td>\n",
       "      <td>38.33</td>\n",
       "      <td>Growing</td>\n",
       "      <td>GOTS</td>\n",
       "    </tr>\n",
       "    <tr>\n",
       "      <th>1</th>\n",
       "      <td>BRAND-0002</td>\n",
       "      <td>Brand_2</td>\n",
       "      <td>Japan</td>\n",
       "      <td>2015</td>\n",
       "      <td>D</td>\n",
       "      <td>Vegan Leather</td>\n",
       "      <td>True</td>\n",
       "      <td>124.39</td>\n",
       "      <td>1951566.31</td>\n",
       "      <td>37267.75</td>\n",
       "      <td>False</td>\n",
       "      <td>15</td>\n",
       "      <td>250.07</td>\n",
       "      <td>Growing</td>\n",
       "      <td>GOTS</td>\n",
       "    </tr>\n",
       "    <tr>\n",
       "      <th>2</th>\n",
       "      <td>BRAND-0003</td>\n",
       "      <td>Brand_3</td>\n",
       "      <td>USA</td>\n",
       "      <td>2024</td>\n",
       "      <td>A</td>\n",
       "      <td>Vegan Leather</td>\n",
       "      <td>False</td>\n",
       "      <td>336.66</td>\n",
       "      <td>467454.52</td>\n",
       "      <td>38385.92</td>\n",
       "      <td>False</td>\n",
       "      <td>2</td>\n",
       "      <td>146.16</td>\n",
       "      <td>Growing</td>\n",
       "      <td>B Corp</td>\n",
       "    </tr>\n",
       "    <tr>\n",
       "      <th>3</th>\n",
       "      <td>BRAND-0004</td>\n",
       "      <td>Brand_4</td>\n",
       "      <td>Italy</td>\n",
       "      <td>2023</td>\n",
       "      <td>D</td>\n",
       "      <td>Bamboo Fabric</td>\n",
       "      <td>False</td>\n",
       "      <td>152.04</td>\n",
       "      <td>899576.90</td>\n",
       "      <td>32665.45</td>\n",
       "      <td>False</td>\n",
       "      <td>13</td>\n",
       "      <td>165.52</td>\n",
       "      <td>Stable</td>\n",
       "      <td>OEKO-TEX</td>\n",
       "    </tr>\n",
       "    <tr>\n",
       "      <th>4</th>\n",
       "      <td>BRAND-0005</td>\n",
       "      <td>Brand_5</td>\n",
       "      <td>USA</td>\n",
       "      <td>2016</td>\n",
       "      <td>D</td>\n",
       "      <td>Bamboo Fabric</td>\n",
       "      <td>True</td>\n",
       "      <td>415.63</td>\n",
       "      <td>1809219.90</td>\n",
       "      <td>37295.47</td>\n",
       "      <td>True</td>\n",
       "      <td>19</td>\n",
       "      <td>211.63</td>\n",
       "      <td>Stable</td>\n",
       "      <td>Fair Trade</td>\n",
       "    </tr>\n",
       "  </tbody>\n",
       "</table>\n",
       "</div>"
      ],
      "text/plain": [
       "     brand_id brand_name    country  year sustainability_rating  \\\n",
       "0  BRAND-0001    Brand_1  Australia  2018                     D   \n",
       "1  BRAND-0002    Brand_2      Japan  2015                     D   \n",
       "2  BRAND-0003    Brand_3        USA  2024                     A   \n",
       "3  BRAND-0004    Brand_4      Italy  2023                     D   \n",
       "4  BRAND-0005    Brand_5        USA  2016                     D   \n",
       "\n",
       "   material_type  eco_friendly_manufacturing  carbon_footprint_mt  \\\n",
       "0         Tencel                       False                 1.75   \n",
       "1  Vegan Leather                        True               124.39   \n",
       "2  Vegan Leather                       False               336.66   \n",
       "3  Bamboo Fabric                       False               152.04   \n",
       "4  Bamboo Fabric                        True               415.63   \n",
       "\n",
       "   water_usage_liters  waste_production_kg  recycling_programs  product_lines  \\\n",
       "0          4511152.79             97844.11               False              2   \n",
       "1          1951566.31             37267.75               False             15   \n",
       "2           467454.52             38385.92               False              2   \n",
       "3           899576.90             32665.45               False             13   \n",
       "4          1809219.90             37295.47                True             19   \n",
       "\n",
       "   average_price_usd market_trend certifications  \n",
       "0              38.33      Growing           GOTS  \n",
       "1             250.07      Growing           GOTS  \n",
       "2             146.16      Growing         B Corp  \n",
       "3             165.52       Stable       OEKO-TEX  \n",
       "4             211.63       Stable     Fair Trade  "
      ]
     },
     "execution_count": 7,
     "metadata": {},
     "output_type": "execute_result"
    }
   ],
   "source": [
    "# Create an expectation suite\n",
    "expectation_suite_name = 'expectation-m3-dataset'\n",
    "context.add_or_update_expectation_suite(expectation_suite_name)\n",
    "\n",
    "# Create a validator using above expectation suite\n",
    "validator = context.get_validator(\n",
    "    batch_request = batch_request,\n",
    "    expectation_suite_name = expectation_suite_name\n",
    ")\n",
    "\n",
    "# Check the validator\n",
    "validator.head()"
   ]
  },
  {
   "cell_type": "markdown",
   "metadata": {},
   "source": [
    "Membuat expectation suite untuk menyimpan hasil validasi dan membuat validator untuk proses validasi"
   ]
  },
  {
   "cell_type": "markdown",
   "metadata": {},
   "source": [
    "## 4.1. To be Unique"
   ]
  },
  {
   "cell_type": "code",
   "execution_count": 8,
   "metadata": {},
   "outputs": [
    {
     "data": {
      "application/vnd.jupyter.widget-view+json": {
       "model_id": "f0291e5a42ea4586857a4fa214930e0d",
       "version_major": 2,
       "version_minor": 0
      },
      "text/plain": [
       "Calculating Metrics:   0%|          | 0/8 [00:00<?, ?it/s]"
      ]
     },
     "metadata": {},
     "output_type": "display_data"
    },
    {
     "data": {
      "text/plain": [
       "{\n",
       "  \"success\": true,\n",
       "  \"meta\": {},\n",
       "  \"result\": {\n",
       "    \"element_count\": 5000,\n",
       "    \"unexpected_count\": 0,\n",
       "    \"unexpected_percent\": 0.0,\n",
       "    \"partial_unexpected_list\": [],\n",
       "    \"missing_count\": 0,\n",
       "    \"missing_percent\": 0.0,\n",
       "    \"unexpected_percent_total\": 0.0,\n",
       "    \"unexpected_percent_nonmissing\": 0.0\n",
       "  },\n",
       "  \"exception_info\": {\n",
       "    \"raised_exception\": false,\n",
       "    \"exception_traceback\": null,\n",
       "    \"exception_message\": null\n",
       "  }\n",
       "}"
      ]
     },
     "execution_count": 8,
     "metadata": {},
     "output_type": "execute_result"
    }
   ],
   "source": [
    "# Memvalidasi Value Column harus Unique\n",
    "\n",
    "validator.expect_column_values_to_be_unique('brand_id')"
   ]
  },
  {
   "cell_type": "markdown",
   "metadata": {},
   "source": [
    "Validasi kolom `brand_id` dengan value harus unique berhasil. kolom ini merupakan index dari data yang dipakai oleh karena itu, kolom ini harus berisikan Unique Value"
   ]
  },
  {
   "cell_type": "markdown",
   "metadata": {},
   "source": [
    "## 4.2. To be Between min_value and max_value"
   ]
  },
  {
   "cell_type": "code",
   "execution_count": 11,
   "metadata": {},
   "outputs": [
    {
     "data": {
      "application/vnd.jupyter.widget-view+json": {
       "model_id": "bdfd0fbedf924ac9ad983b4c670490fa",
       "version_major": 2,
       "version_minor": 0
      },
      "text/plain": [
       "Calculating Metrics:   0%|          | 0/8 [00:00<?, ?it/s]"
      ]
     },
     "metadata": {},
     "output_type": "display_data"
    },
    {
     "data": {
      "text/plain": [
       "{\n",
       "  \"success\": true,\n",
       "  \"meta\": {},\n",
       "  \"result\": {\n",
       "    \"element_count\": 5000,\n",
       "    \"unexpected_count\": 0,\n",
       "    \"unexpected_percent\": 0.0,\n",
       "    \"partial_unexpected_list\": [],\n",
       "    \"missing_count\": 0,\n",
       "    \"missing_percent\": 0.0,\n",
       "    \"unexpected_percent_total\": 0.0,\n",
       "    \"unexpected_percent_nonmissing\": 0.0\n",
       "  },\n",
       "  \"exception_info\": {\n",
       "    \"raised_exception\": false,\n",
       "    \"exception_traceback\": null,\n",
       "    \"exception_message\": null\n",
       "  }\n",
       "}"
      ]
     },
     "execution_count": 11,
     "metadata": {},
     "output_type": "execute_result"
    }
   ],
   "source": [
    "# Validasi value minimum dan maximum\n",
    "\n",
    "validator.expect_column_values_to_be_between(\n",
    "    column='average_price_usd', min_value=0, max_value=500\n",
    ")"
   ]
  },
  {
   "cell_type": "markdown",
   "metadata": {},
   "source": [
    "Validasi kolom `average_price_usd` dengan minimum dan maximum value yang harus dipenuhi menghasilkan output sukses. Kolom tersebut merupakan kolom yang berisi harga rata-rata sebuah produk sehingga jika terdapat nilai yang extreme akan merusak data dan tidak masuk akal secara praktis"
   ]
  },
  {
   "cell_type": "markdown",
   "metadata": {},
   "source": [
    "## 4.3. To be in Set"
   ]
  },
  {
   "cell_type": "code",
   "execution_count": 12,
   "metadata": {},
   "outputs": [
    {
     "data": {
      "application/vnd.jupyter.widget-view+json": {
       "model_id": "7b077f9fce4c4df58145ada9d0af6d20",
       "version_major": 2,
       "version_minor": 0
      },
      "text/plain": [
       "Calculating Metrics:   0%|          | 0/8 [00:00<?, ?it/s]"
      ]
     },
     "metadata": {},
     "output_type": "display_data"
    },
    {
     "data": {
      "text/plain": [
       "{\n",
       "  \"success\": true,\n",
       "  \"meta\": {},\n",
       "  \"result\": {\n",
       "    \"element_count\": 5000,\n",
       "    \"unexpected_count\": 0,\n",
       "    \"unexpected_percent\": 0.0,\n",
       "    \"partial_unexpected_list\": [],\n",
       "    \"missing_count\": 0,\n",
       "    \"missing_percent\": 0.0,\n",
       "    \"unexpected_percent_total\": 0.0,\n",
       "    \"unexpected_percent_nonmissing\": 0.0\n",
       "  },\n",
       "  \"exception_info\": {\n",
       "    \"raised_exception\": false,\n",
       "    \"exception_traceback\": null,\n",
       "    \"exception_message\": null\n",
       "  }\n",
       "}"
      ]
     },
     "execution_count": 12,
     "metadata": {},
     "output_type": "execute_result"
    }
   ],
   "source": [
    "# Validasi Value Kolom harus berisikan set list yang ditentukan\n",
    "\n",
    "validator.expect_column_values_to_be_in_set('sustainability_rating', ['A','B','C','D'])"
   ]
  },
  {
   "cell_type": "markdown",
   "metadata": {},
   "source": [
    "Validasi kolom `sustainability_rating` dengan syarat value berisikan `A`,`B`,`C`, atau `D` menghasilkan output Sukses. Kolom ini merupakan rating produk terhadap tingkat sustainability-nya"
   ]
  },
  {
   "cell_type": "markdown",
   "metadata": {},
   "source": [
    "## 4.4. To be in Type List"
   ]
  },
  {
   "cell_type": "code",
   "execution_count": 28,
   "metadata": {},
   "outputs": [
    {
     "data": {
      "application/vnd.jupyter.widget-view+json": {
       "model_id": "e05cb437a9e04550a496f834a2304d2a",
       "version_major": 2,
       "version_minor": 0
      },
      "text/plain": [
       "Calculating Metrics:   0%|          | 0/1 [00:00<?, ?it/s]"
      ]
     },
     "metadata": {},
     "output_type": "display_data"
    },
    {
     "data": {
      "text/plain": [
       "{\n",
       "  \"success\": true,\n",
       "  \"meta\": {},\n",
       "  \"result\": {\n",
       "    \"observed_value\": \"bool_\"\n",
       "  },\n",
       "  \"exception_info\": {\n",
       "    \"raised_exception\": false,\n",
       "    \"exception_traceback\": null,\n",
       "    \"exception_message\": null\n",
       "  }\n",
       "}"
      ]
     },
     "execution_count": 28,
     "metadata": {},
     "output_type": "execute_result"
    }
   ],
   "source": [
    "# Validasi value kolom harus mengikuti tipe data pada list\n",
    "\n",
    "validator.expect_column_values_to_be_in_type_list('recycling_programs', ['object','bool'])"
   ]
  },
  {
   "cell_type": "markdown",
   "metadata": {},
   "source": [
    "Validasi kolom `recycling_programs` dengan syarat value bertipe data `object` atau `bool` menghasilkan output sukses. Kolom ini merupakan status program daur ulang pada sebuah pabrik manufaktur sehingga value hanya berisi `True/False` atau `Yes/No`"
   ]
  },
  {
   "cell_type": "markdown",
   "metadata": {},
   "source": [
    "## 4.5. Table Column count to Equal"
   ]
  },
  {
   "cell_type": "code",
   "execution_count": 16,
   "metadata": {},
   "outputs": [
    {
     "data": {
      "application/vnd.jupyter.widget-view+json": {
       "model_id": "ee560ea2f86d4869ba9f2288f4d465d9",
       "version_major": 2,
       "version_minor": 0
      },
      "text/plain": [
       "Calculating Metrics:   0%|          | 0/3 [00:00<?, ?it/s]"
      ]
     },
     "metadata": {},
     "output_type": "display_data"
    },
    {
     "data": {
      "text/plain": [
       "{\n",
       "  \"success\": true,\n",
       "  \"meta\": {},\n",
       "  \"result\": {\n",
       "    \"observed_value\": 15\n",
       "  },\n",
       "  \"exception_info\": {\n",
       "    \"raised_exception\": false,\n",
       "    \"exception_traceback\": null,\n",
       "    \"exception_message\": null\n",
       "  }\n",
       "}"
      ]
     },
     "execution_count": 16,
     "metadata": {},
     "output_type": "execute_result"
    }
   ],
   "source": [
    "# Validasi total kolom harus sama dengan yang ditentukan\n",
    "validator.expect_table_column_count_to_equal(15)"
   ]
  },
  {
   "cell_type": "markdown",
   "metadata": {},
   "source": [
    "Validasi jumlah kolom harus berjumlah 15 menghasilkan output sukses. Data ini merupakan data terstruktur sehingga data yang masuk harus mengikuti aturan-aturan yang ditentukan"
   ]
  },
  {
   "cell_type": "markdown",
   "metadata": {},
   "source": [
    "## 4.6. Compound Columns to be Unique"
   ]
  },
  {
   "cell_type": "code",
   "execution_count": 18,
   "metadata": {},
   "outputs": [
    {
     "data": {
      "application/vnd.jupyter.widget-view+json": {
       "model_id": "e5177414d27a4f749c3193c08405a57a",
       "version_major": 2,
       "version_minor": 0
      },
      "text/plain": [
       "Calculating Metrics:   0%|          | 0/7 [00:00<?, ?it/s]"
      ]
     },
     "metadata": {},
     "output_type": "display_data"
    },
    {
     "data": {
      "text/plain": [
       "{\n",
       "  \"success\": true,\n",
       "  \"meta\": {},\n",
       "  \"result\": {\n",
       "    \"element_count\": 5000,\n",
       "    \"unexpected_count\": 0,\n",
       "    \"unexpected_percent\": 0.0,\n",
       "    \"partial_unexpected_list\": [],\n",
       "    \"missing_count\": 0,\n",
       "    \"missing_percent\": 0.0,\n",
       "    \"unexpected_percent_total\": 0.0,\n",
       "    \"unexpected_percent_nonmissing\": 0.0\n",
       "  },\n",
       "  \"exception_info\": {\n",
       "    \"raised_exception\": false,\n",
       "    \"exception_traceback\": null,\n",
       "    \"exception_message\": null\n",
       "  }\n",
       "}"
      ]
     },
     "execution_count": 18,
     "metadata": {},
     "output_type": "execute_result"
    }
   ],
   "source": [
    "# Validasi beberapa kolom harus memiliki value yang berbeda satu sama lain\n",
    "validator.expect_compound_columns_to_be_unique(column_list=['carbon_footprint_mt','water_usage_liters', 'waste_production_kg'])"
   ]
  },
  {
   "cell_type": "markdown",
   "metadata": {},
   "source": [
    "Validasi kolom `carbon_footprint_mt`,`water_usage_liters`, dan `waste_production_kg` dengan syarat harus memiliki value yang berbeda tiap kolomnya menghasilkan output sukses. Ketiga kolom ini merupakan indikator besaran pemakaian air dan pembuangan limbah sehingga ketiga kolom ini pasti memiliki angka yang berbeda pada realitanya."
   ]
  },
  {
   "cell_type": "markdown",
   "metadata": {},
   "source": [
    "## 4.7. Table Columns to not Match"
   ]
  },
  {
   "cell_type": "code",
   "execution_count": 30,
   "metadata": {},
   "outputs": [
    {
     "data": {
      "application/vnd.jupyter.widget-view+json": {
       "model_id": "1066365a36404cccad21db967eb15c43",
       "version_major": 2,
       "version_minor": 0
      },
      "text/plain": [
       "Calculating Metrics:   0%|          | 0/2 [00:00<?, ?it/s]"
      ]
     },
     "metadata": {},
     "output_type": "display_data"
    },
    {
     "data": {
      "text/plain": [
       "{\n",
       "  \"success\": true,\n",
       "  \"meta\": {},\n",
       "  \"result\": {\n",
       "    \"observed_value\": [\n",
       "      \"average_price_usd\",\n",
       "      \"brand_id\",\n",
       "      \"brand_name\",\n",
       "      \"carbon_footprint_mt\",\n",
       "      \"certifications\",\n",
       "      \"country\",\n",
       "      \"eco_friendly_manufacturing\",\n",
       "      \"market_trend\",\n",
       "      \"material_type\",\n",
       "      \"product_lines\",\n",
       "      \"recycling_programs\",\n",
       "      \"sustainability_rating\",\n",
       "      \"waste_production_kg\",\n",
       "      \"water_usage_liters\",\n",
       "      \"year\"\n",
       "    ],\n",
       "    \"details\": {\n",
       "      \"mismatched\": {\n",
       "        \"unexpected\": [\n",
       "          \"brand_id\",\n",
       "          \"brand_name\",\n",
       "          \"carbon_footprint_mt\",\n",
       "          \"certifications\",\n",
       "          \"country\",\n",
       "          \"eco_friendly_manufacturing\",\n",
       "          \"market_trend\",\n",
       "          \"material_type\",\n",
       "          \"recycling_programs\",\n",
       "          \"sustainability_rating\",\n",
       "          \"waste_production_kg\",\n",
       "          \"water_usage_liters\",\n",
       "          \"year\"\n",
       "        ]\n",
       "      }\n",
       "    }\n",
       "  },\n",
       "  \"exception_info\": {\n",
       "    \"raised_exception\": false,\n",
       "    \"exception_traceback\": null,\n",
       "    \"exception_message\": null\n",
       "  }\n",
       "}"
      ]
     },
     "execution_count": 30,
     "metadata": {},
     "output_type": "execute_result"
    }
   ],
   "source": [
    "# Validasi value kolom tidak boleh sama\n",
    "validator.expect_table_columns_to_match_set(column_set=['product_lines','average_price_usd'], exact_match=False)"
   ]
  },
  {
   "cell_type": "markdown",
   "metadata": {},
   "source": [
    "Validasi kolom `product_lines` dan `average_price_usd` dengan syarat memiliki value yang tidak sama. Kedua kolom ini merupakan kolom yang memiliki angka namun nilainya memiliki perbedaan yang signifikan, validasi ini bertujuan untuk cross-check pengisian data oleh surveyor"
   ]
  },
  {
   "cell_type": "markdown",
   "metadata": {},
   "source": [
    "# 5. Save"
   ]
  },
  {
   "cell_type": "code",
   "execution_count": null,
   "metadata": {},
   "outputs": [],
   "source": [
    "# Save into Expectation Suite\n",
    "\n",
    "validator.save_expectation_suite()"
   ]
  },
  {
   "cell_type": "markdown",
   "metadata": {},
   "source": [
    "Save validator yang sukses ke dalam expectation suite"
   ]
  }
 ],
 "metadata": {
  "kernelspec": {
   "display_name": "base",
   "language": "python",
   "name": "python3"
  },
  "language_info": {
   "codemirror_mode": {
    "name": "ipython",
    "version": 3
   },
   "file_extension": ".py",
   "mimetype": "text/x-python",
   "name": "python",
   "nbconvert_exporter": "python",
   "pygments_lexer": "ipython3",
   "version": "3.9.19"
  }
 },
 "nbformat": 4,
 "nbformat_minor": 2
}
